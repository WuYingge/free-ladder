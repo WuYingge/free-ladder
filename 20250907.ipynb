{
 "cells": [
  {
   "cell_type": "code",
   "execution_count": 1,
   "id": "8842c363-7b91-445a-a81b-19e24a6df162",
   "metadata": {},
   "outputs": [],
   "source": [
    "import os"
   ]
  },
  {
   "cell_type": "code",
   "execution_count": 3,
   "id": "2977edd0-bd37-4f71-b2a3-123ed568d87f",
   "metadata": {},
   "outputs": [],
   "source": [
    "import sys\n",
    "sys.path.append(\"./libs\")"
   ]
  },
  {
   "cell_type": "code",
   "execution_count": 2,
   "id": "8229f7cb-9c3f-4eca-ac60-0d47dd888bc3",
   "metadata": {},
   "outputs": [
    {
     "data": {
      "text/plain": [
       "'/home/gouzi/projects/invest'"
      ]
     },
     "execution_count": 2,
     "metadata": {},
     "output_type": "execute_result"
    }
   ],
   "source": [
    "from fetcher.etf import "
   ]
  },
  {
   "cell_type": "code",
   "execution_count": null,
   "id": "a97a312f-cda0-40d2-9b45-85a63742f967",
   "metadata": {},
   "outputs": [],
   "source": []
  }
 ],
 "metadata": {
  "kernelspec": {
   "display_name": "Python 3 (ipykernel)",
   "language": "python",
   "name": "python3"
  },
  "language_info": {
   "codemirror_mode": {
    "name": "ipython",
    "version": 3
   },
   "file_extension": ".py",
   "mimetype": "text/x-python",
   "name": "python",
   "nbconvert_exporter": "python",
   "pygments_lexer": "ipython3",
   "version": "3.12.6"
  }
 },
 "nbformat": 4,
 "nbformat_minor": 5
}
