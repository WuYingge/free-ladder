{
 "cells": [
  {
   "cell_type": "code",
   "execution_count": 1,
   "id": "c6ea2969-7d2a-4adc-a8e8-b7868e767154",
   "metadata": {},
   "outputs": [],
   "source": [
    "%load_ext autoreload\n",
    "%autoreload 2"
   ]
  },
  {
   "cell_type": "code",
   "execution_count": 2,
   "id": "8842c363-7b91-445a-a81b-19e24a6df162",
   "metadata": {},
   "outputs": [],
   "source": [
    "import os"
   ]
  },
  {
   "cell_type": "code",
   "execution_count": 3,
   "id": "2977edd0-bd37-4f71-b2a3-123ed568d87f",
   "metadata": {},
   "outputs": [],
   "source": [
    "import sys\n",
    "sys.path.append(\"../libs\")"
   ]
  },
  {
   "cell_type": "code",
   "execution_count": 4,
   "id": "8229f7cb-9c3f-4eca-ac60-0d47dd888bc3",
   "metadata": {},
   "outputs": [],
   "source": [
    "from fetcher.etf import get_all_ETF_fund, get_all_etf_code"
   ]
  },
  {
   "cell_type": "code",
   "execution_count": 5,
   "id": "6d231da5-0e79-4b41-bf09-ea1cf915dfab",
   "metadata": {},
   "outputs": [],
   "source": [
    "from data_manager.etf_data_manager import etf_data_iter"
   ]
  },
  {
   "cell_type": "code",
   "execution_count": 6,
   "id": "0858d6de-95f3-4b65-ae0b-d97af66bb92c",
   "metadata": {},
   "outputs": [],
   "source": [
    "import factors.ma\n",
    "from factors.ma import cal_one_etf"
   ]
  },
  {
   "cell_type": "code",
   "execution_count": 7,
   "id": "992e6fc8-787d-468b-a068-80034844d3e6",
   "metadata": {},
   "outputs": [],
   "source": [
    "from importlib import reload"
   ]
  },
  {
   "cell_type": "code",
   "execution_count": 9,
   "id": "ae615998-d821-4a6b-92fa-e1a0aa6f6ab8",
   "metadata": {},
   "outputs": [
    {
     "data": {
      "text/plain": [
       "'/home/gouzi/projects/invest/notebooks'"
      ]
     },
     "execution_count": 9,
     "metadata": {},
     "output_type": "execute_result"
    }
   ],
   "source": [
    "os.getcwd()"
   ]
  },
  {
   "cell_type": "code",
   "execution_count": 10,
   "id": "c592b4fb-abfe-475c-8dbc-4dd5ea6e904f",
   "metadata": {},
   "outputs": [],
   "source": [
    "a = os.listdir(\"../data/etf_data/\")"
   ]
  },
  {
   "cell_type": "code",
   "execution_count": 13,
   "id": "8b1a76fa-0f11-4089-a8e3-6362e0675327",
   "metadata": {},
   "outputs": [],
   "source": [
    "from data_manager.etf_data_manager import get_symbol_name_from_fp"
   ]
  },
  {
   "cell_type": "code",
   "execution_count": 15,
   "id": "716bc3b4-7d71-41f6-8d95-a5379b283620",
   "metadata": {},
   "outputs": [
    {
     "data": {
      "application/vnd.jupyter.widget-view+json": {
       "model_id": "21f7b13b3def4f79a7013bdf84cd3e33",
       "version_major": 2,
       "version_minor": 0
      },
      "text/plain": [
       "  0%|          | 0/1114 [00:00<?, ?it/s]"
      ]
     },
     "metadata": {},
     "output_type": "display_data"
    }
   ],
   "source": [
    "all_res = []\n",
    "for symbol, name, df in etf_data_iter():\n",
    "    all_res.append([symbol, name, cal_one_etf(df)])"
   ]
  },
  {
   "cell_type": "code",
   "execution_count": 30,
   "id": "3d0d9dbb-1412-4b49-b53f-c919dd441495",
   "metadata": {},
   "outputs": [
    {
     "data": {
      "text/plain": [
       "1113"
      ]
     },
     "execution_count": 30,
     "metadata": {},
     "output_type": "execute_result"
    }
   ],
   "source": [
    "len(all_res)"
   ]
  },
  {
   "cell_type": "code",
   "execution_count": 28,
   "id": "b0c71436-a7ed-47f5-8f40-1f8bf69c93f7",
   "metadata": {},
   "outputs": [],
   "source": [
    "import pandas as pd\n",
    "from data_manager.etf_data_manager import save_res_df_to_windows"
   ]
  },
  {
   "cell_type": "code",
   "execution_count": 32,
   "id": "65eb3feb-79d7-4c29-9539-8aa0daec0c31",
   "metadata": {},
   "outputs": [],
   "source": [
    "res_df = pd.DataFrame(all_res, columns=[\"symbol\", \"name\", \"ratio\"]).sort_values(by=\"ratio\", ascending=False)"
   ]
  },
  {
   "cell_type": "code",
   "execution_count": 22,
   "id": "5968cb43-9abd-4580-9b64-659e2614aab4",
   "metadata": {},
   "outputs": [],
   "source": [
    "from config import DataPath"
   ]
  },
  {
   "cell_type": "code",
   "execution_count": 33,
   "id": "5eb9a2b5-f3bd-4fb6-9ada-dce63860a757",
   "metadata": {},
   "outputs": [],
   "source": [
    "save_res_df_to_windows(res_df, \"斜率风险比/20250907.xlsx\")"
   ]
  },
  {
   "cell_type": "code",
   "execution_count": null,
   "id": "43f10992-3eb6-447a-b5c4-c3812716b4ee",
   "metadata": {},
   "outputs": [],
   "source": []
  }
 ],
 "metadata": {
  "kernelspec": {
   "display_name": "Python 3 (ipykernel)",
   "language": "python",
   "name": "python3"
  },
  "language_info": {
   "codemirror_mode": {
    "name": "ipython",
    "version": 3
   },
   "file_extension": ".py",
   "mimetype": "text/x-python",
   "name": "python",
   "nbconvert_exporter": "python",
   "pygments_lexer": "ipython3",
   "version": "3.12.6"
  }
 },
 "nbformat": 4,
 "nbformat_minor": 5
}
